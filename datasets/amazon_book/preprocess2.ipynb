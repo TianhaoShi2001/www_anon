{
 "cells": [
  {
   "cell_type": "code",
   "execution_count": 75,
   "metadata": {},
   "outputs": [],
   "source": [
    "import pandas as pd\n",
    "import numpy as np"
   ]
  },
  {
   "cell_type": "code",
   "execution_count": 76,
   "metadata": {},
   "outputs": [],
   "source": [
    "book_df_origin = pd.read_pickle('./small_Books.pkl')"
   ]
  },
  {
   "cell_type": "code",
   "execution_count": 77,
   "metadata": {},
   "outputs": [],
   "source": [
    "meta_df_origin = pd.read_pickle('./small_meta_Books.pkl')"
   ]
  },
  {
   "cell_type": "code",
   "execution_count": 78,
   "metadata": {},
   "outputs": [],
   "source": [
    "book_df = book_df_origin.copy()\n",
    "meta_df = meta_df_origin.copy()"
   ]
  },
  {
   "cell_type": "code",
   "execution_count": 79,
   "metadata": {},
   "outputs": [
    {
     "name": "stdout",
     "output_type": "stream",
     "text": [
      "Index(['title', 'subtitle', 'author', 'average_rating', 'rating_number',\n",
      "       'features', 'price', 'store', 'categories', 'details', 'parent_asin',\n",
      "       'publish_time'],\n",
      "      dtype='object')\n",
      "Index(['rating', 'parent_asin', 'user_id', 'timestamp'], dtype='object')\n"
     ]
    }
   ],
   "source": [
    "print(meta_df.columns)\n",
    "print(book_df.columns)"
   ]
  },
  {
   "cell_type": "code",
   "execution_count": 80,
   "metadata": {},
   "outputs": [],
   "source": [
    "original_title2id_dict = {}\n",
    "id_num = 0 # start from 0\n",
    "unique_titles = meta_df['title'].unique().tolist()\n",
    "for title in unique_titles:\n",
    "    original_title2id_dict[title] = id_num\n",
    "    id_num+=1\n",
    "    "
   ]
  },
  {
   "cell_type": "code",
   "execution_count": 81,
   "metadata": {},
   "outputs": [],
   "source": [
    "meta_df['title_idx'] = meta_df['title'].apply(lambda x:original_title2id_dict[x])"
   ]
  },
  {
   "cell_type": "markdown",
   "metadata": {},
   "source": [
    "# 1. seperate cold-start and warm-start items according to item publish time"
   ]
  },
  {
   "cell_type": "code",
   "execution_count": 82,
   "metadata": {},
   "outputs": [
    {
     "name": "stdout",
     "output_type": "stream",
     "text": [
      "Index(['rating', 'parent_asin', 'user_id', 'timestamp'], dtype='object') Index(['title', 'subtitle', 'author', 'average_rating', 'rating_number',\n",
      "       'features', 'price', 'store', 'categories', 'details', 'parent_asin',\n",
      "       'publish_time', 'title_idx'],\n",
      "      dtype='object')\n"
     ]
    }
   ],
   "source": [
    "print(book_df.columns, meta_df.columns)"
   ]
  },
  {
   "cell_type": "code",
   "execution_count": 83,
   "metadata": {},
   "outputs": [],
   "source": [
    "partial_meta_df = meta_df.copy()[['title','parent_asin','title_idx','publish_time']]"
   ]
  },
  {
   "cell_type": "code",
   "execution_count": 84,
   "metadata": {},
   "outputs": [],
   "source": [
    "merged_book_df = pd.merge(left = book_df, right=partial_meta_df,how = 'left',on='parent_asin', )"
   ]
  },
  {
   "cell_type": "code",
   "execution_count": 85,
   "metadata": {},
   "outputs": [
    {
     "name": "stdout",
     "output_type": "stream",
     "text": [
      "Index(['rating', 'parent_asin', 'user_id', 'timestamp', 'title', 'title_idx',\n",
      "       'publish_time'],\n",
      "      dtype='object')\n"
     ]
    }
   ],
   "source": [
    "print(merged_book_df.columns)"
   ]
  },
  {
   "cell_type": "code",
   "execution_count": 86,
   "metadata": {},
   "outputs": [],
   "source": [
    "data = merged_book_df.copy()"
   ]
  },
  {
   "cell_type": "code",
   "execution_count": 87,
   "metadata": {},
   "outputs": [],
   "source": [
    "data.columns = ['rating', 'iid', 'uid', 'timestamp', 'title', 'title_idx','publish_time']\n",
    "data['year'] = data['timestamp'].dt.year"
   ]
  },
  {
   "cell_type": "code",
   "execution_count": 88,
   "metadata": {},
   "outputs": [
    {
     "name": "stdout",
     "output_type": "stream",
     "text": [
      "   rating         iid                           uid               timestamp  \\\n",
      "0       1  B09BGPFTDB  AFKZENTNBQ7A7V7UXW5JJI6UGRYQ 2022-01-17 06:06:38.485   \n",
      "1       5  0593235657  AFKZENTNBQ7A7V7UXW5JJI6UGRYQ 2021-12-27 18:26:44.904   \n",
      "2       5  1782490671  AFKZENTNBQ7A7V7UXW5JJI6UGRYQ 2021-12-24 22:04:55.102   \n",
      "3       5  0593138228  AFKZENTNBQ7A7V7UXW5JJI6UGRYQ 2021-12-24 16:55:06.602   \n",
      "4       5  0823098079  AFKZENTNBQ7A7V7UXW5JJI6UGRYQ 2021-11-19 08:57:33.230   \n",
      "\n",
      "                                               title  title_idx publish_time  \\\n",
      "0  Watercolor with Me in the Ocean: Coloring book...    2838745   2021-07-29   \n",
      "1  Get Untamed: The Journal (How to Quit Pleasing...    2306876   2021-11-16   \n",
      "2  Cute & Easy Crochet with Flowers: 35 beautiful...     274944   2013-09-12   \n",
      "3  The Pop Manga Sketchbook: A Guided Drawing Jou...    2119176   2021-06-01   \n",
      "4  Haiku Knits: 25 Serenely Beautiful Patterns In...     331161   2009-10-20   \n",
      "\n",
      "   year  \n",
      "0  2022  \n",
      "1  2021  \n",
      "2  2021  \n",
      "3  2021  \n",
      "4  2021  \n"
     ]
    }
   ],
   "source": [
    "print(data.head(5))"
   ]
  },
  {
   "cell_type": "code",
   "execution_count": 89,
   "metadata": {},
   "outputs": [],
   "source": [
    "cold_publish_data = data[data['publish_time'] >= pd.to_datetime('2022-10-01')]\n",
    "cold_publish_items = cold_publish_data['title_idx'].unique().tolist()"
   ]
  },
  {
   "cell_type": "code",
   "execution_count": 90,
   "metadata": {},
   "outputs": [
    {
     "name": "stdout",
     "output_type": "stream",
     "text": [
      "                        timestamp\n",
      "title_idx                        \n",
      "0         2013-05-15 17:16:16.000\n",
      "1         2004-12-29 22:56:47.000\n",
      "2         2012-05-09 10:59:08.000\n",
      "3         2013-11-05 15:53:28.000\n",
      "4         2014-06-21 21:41:50.000\n",
      "...                           ...\n",
      "3864962   2019-06-20 21:45:22.228\n",
      "3864963   2014-11-12 21:32:34.000\n",
      "3864964   2010-03-04 21:11:09.000\n",
      "3864965   2003-07-28 16:41:06.000\n",
      "3864966   2006-11-01 00:10:28.000\n",
      "\n",
      "[3863285 rows x 1 columns]\n"
     ]
    }
   ],
   "source": [
    "item_review_earliest_time = data.groupby('title_idx').agg({'timestamp':'min'})\n",
    "print(item_review_earliest_time)"
   ]
  },
  {
   "cell_type": "code",
   "execution_count": 91,
   "metadata": {},
   "outputs": [
    {
     "name": "stdout",
     "output_type": "stream",
     "text": [
      "[11, 12, 32, 38, 39, 73, 104, 229, 245, 339]\n"
     ]
    }
   ],
   "source": [
    "cold_review_data = item_review_earliest_time[item_review_earliest_time['timestamp'] >= pd.to_datetime('2022-10-01')]\n",
    "cold_review_items = cold_review_data.index.tolist()\n",
    "print(cold_review_items[:10])"
   ]
  },
  {
   "cell_type": "code",
   "execution_count": 92,
   "metadata": {},
   "outputs": [],
   "source": [
    "cold_items = set(cold_review_items).intersection(set(cold_publish_items))"
   ]
  },
  {
   "cell_type": "markdown",
   "metadata": {},
   "source": [
    "# 2.get warm_train, warm_test, cold_test data"
   ]
  },
  {
   "cell_type": "code",
   "execution_count": 93,
   "metadata": {},
   "outputs": [],
   "source": [
    "warm_start_time = '2016-01-01'\n",
    "cold_end_time = '2023-10-01'"
   ]
  },
  {
   "cell_type": "code",
   "execution_count": 94,
   "metadata": {},
   "outputs": [],
   "source": [
    "data = merged_book_df.copy()\n",
    "data.columns = ['rating', 'iid', 'uid', 'timestamp', 'title', 'title_idx','publish_time']\n",
    "data['year'] = data['timestamp'].dt.year\n",
    "data = data[(data['timestamp'] >= pd.to_datetime(warm_start_time)) & (data['timestamp'] <= pd.to_datetime(cold_end_time))]"
   ]
  },
  {
   "cell_type": "code",
   "execution_count": 95,
   "metadata": {},
   "outputs": [
    {
     "data": {
      "text/plain": [
       "<Axes: xlabel='month'>"
      ]
     },
     "execution_count": 95,
     "metadata": {},
     "output_type": "execute_result"
    },
    {
     "data": {
      "image/png": "[encoded data removed]",
      "text/plain": [
       "<Figure size 640x480 with 1 Axes>"
      ]
     },
     "metadata": {},
     "output_type": "display_data"
    }
   ],
   "source": [
    "data['month'] = data['timestamp'].dt.month + data['timestamp'].dt.year * 12\n",
    "data['month'] = data['month'] - data['month'].min()\n",
    "data.groupby('month').agg({'uid':'count'}).reset_index().plot(x = 'month', kind = 'bar')"
   ]
  },
  {
   "cell_type": "code",
   "execution_count": 96,
   "metadata": {},
   "outputs": [
    {
     "data": {
      "text/plain": [
       "<Axes: xlabel='month'>"
      ]
     },
     "execution_count": 96,
     "metadata": {},
     "output_type": "execute_result"
    },
    {
     "data": {
      "image/png": "[encoded data removed]",
      "text/plain": [
       "<Figure size 640x480 with 1 Axes>"
      ]
     },
     "metadata": {},
     "output_type": "display_data"
    }
   ],
   "source": [
    "cold_data = data[data['title_idx'].isin(cold_items)]\n",
    "cold_data.groupby('month').agg({'uid':'count'}).reset_index().plot(x = 'month', kind = 'bar')"
   ]
  },
  {
   "cell_type": "code",
   "execution_count": 97,
   "metadata": {},
   "outputs": [
    {
     "data": {
      "text/plain": [
       "<Axes: xlabel='month'>"
      ]
     },
     "execution_count": 97,
     "metadata": {},
     "output_type": "execute_result"
    },
    {
     "data": {
      "image/png": "[encoded data removed]",
      "text/plain": [
       "<Figure size 640x480 with 1 Axes>"
      ]
     },
     "metadata": {},
     "output_type": "display_data"
    }
   ],
   "source": [
    "uncold_data = data[~data['title_idx'].isin(cold_items)]\n",
    "uncold_data.groupby('month').agg({'uid':'count'}).reset_index().plot(x = 'month', kind = 'bar')"
   ]
  },
  {
   "cell_type": "code",
   "execution_count": 98,
   "metadata": {},
   "outputs": [],
   "source": [
    "# delete cold data' interactions\n",
    "test_months = list(range(data['month'].max()-12+1,data['month'].max() +1 )) \n",
    "cold_data_test = cold_data[cold_data['month'].isin(test_months)]\n",
    "cold_items_test = cold_data_test['title_idx'].unique().tolist()"
   ]
  },
  {
   "cell_type": "code",
   "execution_count": 99,
   "metadata": {},
   "outputs": [],
   "source": [
    "import random\n",
    "old_items = uncold_data['iid'].unique().tolist()\n",
    "\n",
    "old_items_in_test_set = uncold_data[uncold_data['month'].isin(test_months)]['iid'].unique().tolist()\n",
    "old_items_in_train_set = uncold_data[~uncold_data['month'].isin(test_months)]['iid'].unique().tolist()\n",
    "\n",
    "# items without interactions in training set\n",
    "old_items_cold = list(set(old_items_in_test_set) - set(old_items_in_train_set)) # [item for item in old_items_in_test_set if item not in old_items_in_train_set]\n",
    "random.seed(2024)\n",
    "random.shuffle(old_items)\n",
    "\n"
   ]
  },
  {
   "cell_type": "code",
   "execution_count": 100,
   "metadata": {},
   "outputs": [
    {
     "name": "stdout",
     "output_type": "stream",
     "text": [
      "121095 2924077\n"
     ]
    }
   ],
   "source": [
    "print(len(old_items_cold),len(old_items))\n",
    "sample_items_cold = old_items[:int(len(old_items) * 0.2)]\n",
    "fake_cold_items = list(set(old_items_cold) | set (sample_items_cold))\n",
    "preserve_warm_items = list((set(old_items) - set(old_items_cold)) - set (sample_items_cold)) \n",
    "fake_cold_data_test = uncold_data[(uncold_data['month'].isin(test_months)) & uncold_data['iid'].isin(fake_cold_items)]"
   ]
  },
  {
   "cell_type": "code",
   "execution_count": 101,
   "metadata": {},
   "outputs": [
    {
     "data": {
      "text/plain": [
       "<Axes: xlabel='month'>"
      ]
     },
     "execution_count": 101,
     "metadata": {},
     "output_type": "execute_result"
    },
    {
     "data": {
      "image/png": "[encoded data removed]",
      "text/plain": [
       "<Figure size 640x480 with 1 Axes>"
      ]
     },
     "metadata": {},
     "output_type": "display_data"
    }
   ],
   "source": [
    "preserve_warm_data = uncold_data[uncold_data['iid'].isin(preserve_warm_items)]\n",
    "cnt_warm = preserve_warm_data['iid'].value_counts() \n",
    "preserve_warm_data.groupby('month').agg({'iid':'count'}).reset_index().plot(x = 'month', kind = 'bar')"
   ]
  },
  {
   "cell_type": "code",
   "execution_count": 102,
   "metadata": {},
   "outputs": [],
   "source": [
    "# process only warm_data\n",
    "preserve_warm_data_test = preserve_warm_data[preserve_warm_data['month'].isin(test_months)]\n",
    "preserve_warm_data_train = preserve_warm_data[~preserve_warm_data['month'].isin(test_months)]"
   ]
  },
  {
   "cell_type": "code",
   "execution_count": 103,
   "metadata": {},
   "outputs": [
    {
     "name": "stderr",
     "output_type": "stream",
     "text": [
      "/tmp/ipykernel_2758286/2279802373.py:1: SettingWithCopyWarning: \n",
      "A value is trying to be set on a copy of a slice from a DataFrame.\n",
      "Try using .loc[row_indexer,col_indexer] = value instead\n",
      "\n",
      "See the caveats in the documentation: https://pandas.pydata.org/pandas-docs/stable/user_guide/indexing.html#returning-a-view-versus-a-copy\n",
      "  preserve_warm_data_train['env'] = 0 # warm train\n",
      "/tmp/ipykernel_2758286/2279802373.py:2: SettingWithCopyWarning: \n",
      "A value is trying to be set on a copy of a slice from a DataFrame.\n",
      "Try using .loc[row_indexer,col_indexer] = value instead\n",
      "\n",
      "See the caveats in the documentation: https://pandas.pydata.org/pandas-docs/stable/user_guide/indexing.html#returning-a-view-versus-a-copy\n",
      "  preserve_warm_data_test['env'] = 1\n",
      "/tmp/ipykernel_2758286/2279802373.py:6: SettingWithCopyWarning: \n",
      "A value is trying to be set on a copy of a slice from a DataFrame.\n",
      "Try using .loc[row_indexer,col_indexer] = value instead\n",
      "\n",
      "See the caveats in the documentation: https://pandas.pydata.org/pandas-docs/stable/user_guide/indexing.html#returning-a-view-versus-a-copy\n",
      "  fake_cold_data_test['env'] = 2\n"
     ]
    }
   ],
   "source": [
    "preserve_warm_data_train['env'] = 0 # warm train\n",
    "preserve_warm_data_test['env'] = 1\n",
    "# the fake cold data denote items published before '2022-10-31',  \n",
    "# which means their text information may be collected in LLAMA-2's pretraining stage.\n",
    "# However, these items were not used in our final paper.\n",
    "fake_cold_data_test['env'] = 2\n",
    "cold_data_test['env'] = 3\n",
    "all_data = pd.concat([preserve_warm_data_train,preserve_warm_data_test,fake_cold_data_test,cold_data_test])\n"
   ]
  },
  {
   "cell_type": "code",
   "execution_count": 104,
   "metadata": {},
   "outputs": [],
   "source": [
    "def filter_users(all_data):\n",
    "    user_cnt = all_data['uid'].value_counts()\n",
    "    warm_users = user_cnt[user_cnt >= 15].index.tolist()\n",
    "    all_data = all_data[all_data['uid'].isin(warm_users)]\n",
    "    return all_data"
   ]
  },
  {
   "cell_type": "code",
   "execution_count": 105,
   "metadata": {},
   "outputs": [],
   "source": [
    "# filter items, preserve all items with interaction >= 10.\n",
    "def filer_items(all_data):\n",
    "    item_cnt = all_data['iid'].value_counts()\n",
    "    filer_items = item_cnt[item_cnt >= 15].index.tolist()\n",
    "    all_data = all_data[all_data['iid'].isin(filer_items)]\n",
    "    train_warm_cnt = all_data[all_data['env'] == 0]['iid'].value_counts()\n",
    "    delete_items = train_warm_cnt[train_warm_cnt < 15].index.unique().tolist()\n",
    "    all_data = all_data[~all_data['iid'].isin(delete_items)]\n",
    "    return all_data"
   ]
  },
  {
   "cell_type": "code",
   "execution_count": 106,
   "metadata": {},
   "outputs": [],
   "source": [
    "all_data = filter_users(all_data)\n",
    "all_data = filer_items(all_data)"
   ]
  },
  {
   "cell_type": "code",
   "execution_count": 107,
   "metadata": {},
   "outputs": [
    {
     "name": "stdout",
     "output_type": "stream",
     "text": [
      "788105\n",
      "737643\n",
      "20833\n",
      "23654\n",
      "iid\n",
      "B01M7XPGYE    784\n",
      "B06Y1264PX    754\n",
      "B01KXQ8SS6    664\n",
      "B01EN506CO    593\n",
      "B01BU1ITMI    579\n",
      "             ... \n",
      "B082H71XVG     15\n",
      "B0974521FG     15\n",
      "1626345848     15\n",
      "1542033837     15\n",
      "1250150876     15\n",
      "Name: count, Length: 20824, dtype: int64\n",
      "iid\n",
      "B09QXZB6SK    135\n",
      "0593358511    109\n",
      "B09JBCGQB8     79\n",
      "1668002175     77\n",
      "B091M75X6J     65\n",
      "             ... \n",
      "1645437639      1\n",
      "1328635201      1\n",
      "0399557253      1\n",
      "1250252687      1\n",
      "B077C8GFSX      1\n",
      "Name: count, Length: 7259, dtype: int64\n",
      "iid\n",
      "125028001X    266\n",
      "1984818384    250\n",
      "B09ZK4KVTX    201\n",
      "1250803853    149\n",
      "B09TZM8CZK    145\n",
      "             ... \n",
      "1647422531     15\n",
      "B09ZB5VNHG     15\n",
      "1250846528     15\n",
      "1538700433     15\n",
      "B0BPGJND7X     15\n",
      "Name: count, Length: 778, dtype: int64\n"
     ]
    }
   ],
   "source": [
    "print(all_data.shape[0])\n",
    "print(all_data[all_data['env'] == 0].shape[0]) # warm_train\n",
    "print(all_data[all_data['env'] == 1].shape[0]) # warm_test\n",
    "print(all_data[all_data['env'] == 3].shape[0]) # cold\n",
    "\n",
    "print(all_data[all_data['env'] == 0]['iid'].value_counts())\n",
    "print(all_data[all_data['env'] == 1]['iid'].value_counts())\n",
    "print(all_data[all_data['env'] == 3]['iid'].value_counts())"
   ]
  },
  {
   "cell_type": "markdown",
   "metadata": {},
   "source": [
    "# 3.save data for TALLRec and CF model"
   ]
  },
  {
   "cell_type": "code",
   "execution_count": 108,
   "metadata": {},
   "outputs": [],
   "source": [
    "# parent_asin to iid\n",
    "parent_asin2iid_dict = {}\n",
    "num = 0\n",
    "for parent_asin in all_data['iid'].unique().tolist():\n",
    "    parent_asin2iid_dict[parent_asin] = num\n",
    "    num += 1\n",
    "all_data['iid'] = all_data['iid'].apply(lambda x: parent_asin2iid_dict[x])"
   ]
  },
  {
   "cell_type": "code",
   "execution_count": 109,
   "metadata": {},
   "outputs": [
    {
     "name": "stdout",
     "output_type": "stream",
     "text": [
      "21827\n"
     ]
    }
   ],
   "source": [
    "print(len(parent_asin2iid_dict))"
   ]
  },
  {
   "cell_type": "code",
   "execution_count": 110,
   "metadata": {},
   "outputs": [],
   "source": [
    "# parent_asin to iid\n",
    "user_id2uid_dict = {}\n",
    "num = 0\n",
    "for user_id in all_data['uid'].unique().tolist():\n",
    "    user_id2uid_dict[user_id] = num\n",
    "    num += 1\n",
    "all_data['uid'] = all_data['uid'].apply(lambda x: user_id2uid_dict[x])"
   ]
  },
  {
   "cell_type": "code",
   "execution_count": 111,
   "metadata": {},
   "outputs": [
    {
     "name": "stdout",
     "output_type": "stream",
     "text": [
      "62681\n"
     ]
    }
   ],
   "source": [
    "print(len(user_id2uid_dict))"
   ]
  },
  {
   "cell_type": "code",
   "execution_count": 112,
   "metadata": {},
   "outputs": [
    {
     "name": "stdout",
     "output_type": "stream",
     "text": [
      "Index(['rating', 'iid', 'uid', 'timestamp', 'title', 'title_idx',\n",
      "       'publish_time', 'year', 'month', 'env'],\n",
      "      dtype='object')\n"
     ]
    }
   ],
   "source": [
    "print(all_data.columns)"
   ]
  },
  {
   "cell_type": "code",
   "execution_count": 113,
   "metadata": {},
   "outputs": [
    {
     "name": "stdout",
     "output_type": "stream",
     "text": [
      "rating          False\n",
      "iid             False\n",
      "uid             False\n",
      "timestamp       False\n",
      "title           False\n",
      "title_idx       False\n",
      "publish_time     True\n",
      "year            False\n",
      "month           False\n",
      "env             False\n",
      "dtype: bool\n"
     ]
    }
   ],
   "source": [
    "print(all_data.isnull().any())"
   ]
  },
  {
   "cell_type": "code",
   "execution_count": 114,
   "metadata": {},
   "outputs": [
    {
     "name": "stdout",
     "output_type": "stream",
     "text": [
      "100242\n"
     ]
    }
   ],
   "source": [
    "print(all_data['publish_time'].isnull().sum())"
   ]
  },
  {
   "cell_type": "code",
   "execution_count": 115,
   "metadata": {},
   "outputs": [
    {
     "name": "stdout",
     "output_type": "stream",
     "text": [
      "(788105, 11)\n"
     ]
    }
   ],
   "source": [
    "all_data.sort_values(by = 'timestamp', inplace=True, ascending=True)\n",
    "all_data['label'] = all_data['rating'].apply(lambda x: 1 if x>=4 else 0)\n",
    "all_data.drop_duplicates(inplace=True)\n",
    "print(all_data.shape) "
   ]
  },
  {
   "cell_type": "code",
   "execution_count": 116,
   "metadata": {},
   "outputs": [
    {
     "name": "stdout",
     "output_type": "stream",
     "text": [
      "                                      iid                              label  \\\n",
      "uid                                                                            \n",
      "0    [9, 8, 7, 6, 5, 4, 3, 2, 1, 0, 7437]  [1, 1, 1, 1, 1, 1, 1, 1, 1, 1, 1]   \n",
      "\n",
      "                                                 title  \\\n",
      "uid                                                      \n",
      "0    [Color Me Calm: 100 Coloring Templates for Med...   \n",
      "\n",
      "                                             timestamp  \\\n",
      "uid                                                      \n",
      "0    [2016-01-13 21:44:25, 2016-01-13 21:45:18, 201...   \n",
      "\n",
      "                                   env  \n",
      "uid                                     \n",
      "0    [0, 0, 0, 0, 0, 0, 0, 0, 0, 0, 1]  \n"
     ]
    }
   ],
   "source": [
    "u_inter_all = all_data.groupby('uid').agg({'iid':list, 'label':list, 'title':list, 'timestamp':list, 'env':list})\n",
    "print(u_inter_all.head(1))"
   ]
  },
  {
   "cell_type": "code",
   "execution_count": 117,
   "metadata": {},
   "outputs": [],
   "source": [
    "import copy\n",
    "# get  [(seq0, label0), (seq1,label1)] for one user\n",
    "def deal_with_each_u(x,u):\n",
    "    items = np.array(x.iid)\n",
    "    labels = np.array(x.label)\n",
    "    titles = np.array(x.title)\n",
    "    timestamp = np.array(x.timestamp)\n",
    "    env = np.array(x.env)\n",
    "    his = [0] # adding a '0' by default\n",
    "    his_title = ['']\n",
    "    results = []\n",
    "    for i in range(items.shape[0]):\n",
    "        results.append((u, items[i], timestamp[i], np.array(his), copy.copy(his_title),titles[i], labels[i],env[i]))\n",
    "        # training data\n",
    "        if labels[i] > 0: # positive \n",
    "            his.append(items[i])\n",
    "            his_title.append(titles[i])\n",
    "    return results"
   ]
  },
  {
   "cell_type": "code",
   "execution_count": 118,
   "metadata": {},
   "outputs": [],
   "source": [
    "results = []\n",
    "for u in u_inter_all.index:\n",
    "    results.extend(deal_with_each_u(u_inter_all.loc[u],u))"
   ]
  },
  {
   "cell_type": "code",
   "execution_count": 119,
   "metadata": {},
   "outputs": [],
   "source": [
    "u_, i_, time_, label_, his_, his_title, title_,env_ = [],[],[],[],[],[],[],[]\n",
    "for re_ in results:\n",
    "    # if len(re_[3]) < 11:\n",
    "    #     continue\n",
    "    # else:\n",
    "        u_.append(re_[0])\n",
    "        i_.append(re_[1])\n",
    "        time_.append(re_[2])\n",
    "        his_.append(re_[3][-15:])\n",
    "        his_title.append(re_[4][-15:])\n",
    "        title_.append(re_[5])\n",
    "        label_.append(re_[6])\n",
    "        env_.append(re_[7])"
   ]
  },
  {
   "cell_type": "code",
   "execution_count": 120,
   "metadata": {},
   "outputs": [],
   "source": [
    "all_data = pd.DataFrame({\"uid\":u_,'iid':i_,'label':label_, 'timestamp': time_ , 'his':his_,'his_title':his_title,'title':title_,'env':env_})"
   ]
  },
  {
   "cell_type": "code",
   "execution_count": 121,
   "metadata": {},
   "outputs": [
    {
     "name": "stdout",
     "output_type": "stream",
     "text": [
      "(788105, 8)\n"
     ]
    }
   ],
   "source": [
    "print(all_data.shape)\n",
    "all_data.sort_values(by = 'timestamp', ascending=True,inplace=True)"
   ]
  },
  {
   "cell_type": "code",
   "execution_count": 122,
   "metadata": {},
   "outputs": [
    {
     "name": "stdout",
     "output_type": "stream",
     "text": [
      "warm train inter num 737643\n",
      "warm evaluate inter num 20833\n",
      "cold evaluate inter num 23654\n"
     ]
    }
   ],
   "source": [
    "train_data = all_data[all_data['env'] == 0]\n",
    "warm_test = all_data[all_data['env'] == 1]\n",
    "cold_test = all_data[all_data['env'] == 3]\n",
    "print('warm train inter num', train_data.shape[0]) # warm_train\n",
    "print('warm evaluate inter num', warm_test.shape[0]) # warm_test\n",
    "print('cold evaluate inter num', cold_test.shape[0]) # cold (cold_test)\n",
    "mix_test = pd.concat((warm_test, cold_test))\n",
    "unique_iids = mix_test['iid'].unique().tolist()\n",
    "valid_data = []\n",
    "test_data = []\n",
    "for iid in unique_iids:\n",
    "    iid_data = mix_test.loc[mix_test['iid'] == iid]\n",
    "    split_index = len(iid_data) // 2  \n",
    "    valid_data.append(iid_data.iloc[:split_index])\n",
    "    test_data.append(iid_data.iloc[split_index:])\n",
    "valid_all = pd.concat(valid_data)\n",
    "test_all = pd.concat(test_data)\n",
    "warm_valid = valid_all[valid_all['env'] == 1]\n",
    "cold_valid = valid_all[valid_all['env'] == 3]\n",
    "warm_test = test_all[test_all['env'] == 1]\n",
    "cold_test = test_all[test_all['env'] == 3]"
   ]
  },
  {
   "cell_type": "code",
   "execution_count": null,
   "metadata": {},
   "outputs": [],
   "source": [
    "train_data.to_pickle('./train_1.pkl')  # train_warm\n",
    "valid_all.to_pickle('./valid_0.pkl') # valid_mix\n",
    "test_all.to_pickle('./test_0.pkl') # valid_mix\n",
    "warm_valid.to_pickle('./valid_1.pkl') # valid_warm\n",
    "cold_valid.to_pickle('./valid_2.pkl') # valid_cold\n",
    "warm_test.to_pickle('./test_1.pkl') # test_warm\n",
    "cold_test.to_pickle('./test_2.pkl')  # test_cold\n"
   ]
  }
 ],
 "metadata": {
  "kernelspec": {
   "display_name": "song1",
   "language": "python",
   "name": "python3"
  },
  "language_info": {
   "codemirror_mode": {
    "name": "ipython",
    "version": 3
   },
   "file_extension": ".py",
   "mimetype": "text/x-python",
   "name": "python",
   "nbconvert_exporter": "python",
   "pygments_lexer": "ipython3",
   "version": "3.9.18"
  }
 },
 "nbformat": 4,
 "nbformat_minor": 2
}
