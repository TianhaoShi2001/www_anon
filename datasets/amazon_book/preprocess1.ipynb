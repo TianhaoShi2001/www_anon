{
 "cells": [
  {
   "cell_type": "code",
   "execution_count": null,
   "metadata": {},
   "outputs": [],
   "source": [
    "import pandas as pd\n",
    "import json\n",
    "import numpy as np"
   ]
  },
  {
   "cell_type": "markdown",
   "metadata": {},
   "source": [
    "# read data"
   ]
  },
  {
   "cell_type": "code",
   "execution_count": null,
   "metadata": {},
   "outputs": [],
   "source": [
    "book_path = 'Books.jsonl'\n",
    "chunks = pd.read_json(book_path,lines = True, chunksize=10000)"
   ]
  },
  {
   "cell_type": "code",
   "execution_count": null,
   "metadata": {},
   "outputs": [],
   "source": [
    "book_df = pd.concat(chunks)"
   ]
  },
  {
   "cell_type": "code",
   "execution_count": null,
   "metadata": {},
   "outputs": [],
   "source": [
    "meta_path = 'meta_Books.jsonl'\n",
    "meta_chunks = pd.read_json(meta_path,lines = True, chunksize=10000)"
   ]
  },
  {
   "cell_type": "code",
   "execution_count": null,
   "metadata": {},
   "outputs": [],
   "source": [
    "meta_df = pd.concat(meta_chunks)"
   ]
  },
  {
   "cell_type": "code",
   "execution_count": null,
   "metadata": {},
   "outputs": [],
   "source": [
    "print(book_df.columns)\n",
    "print(meta_df.columns)"
   ]
  },
  {
   "cell_type": "code",
   "execution_count": null,
   "metadata": {},
   "outputs": [],
   "source": [
    "book_small_df = book_df.copy()[['rating',  'parent_asin', 'user_id', 'timestamp']]"
   ]
  },
  {
   "cell_type": "code",
   "execution_count": null,
   "metadata": {},
   "outputs": [],
   "source": [
    "book_small_df.drop_duplicates(inplace=True)"
   ]
  },
  {
   "cell_type": "code",
   "execution_count": null,
   "metadata": {},
   "outputs": [],
   "source": [
    "book_small_df.to_hdf('./small_Books.hdf',key = '1')"
   ]
  },
  {
   "cell_type": "code",
   "execution_count": null,
   "metadata": {},
   "outputs": [],
   "source": [
    "book_small_df.to_pickle('./small_Books.pkl')"
   ]
  },
  {
   "cell_type": "code",
   "execution_count": null,
   "metadata": {},
   "outputs": [],
   "source": [
    "meta_small_df = meta_df.copy()[[ 'title', 'subtitle', 'author', 'average_rating',\n",
    "       'rating_number', 'features',  'price', \n",
    "       'store', 'categories', 'details', 'parent_asin', ]]"
   ]
  },
  {
   "cell_type": "markdown",
   "metadata": {},
   "source": [
    "# process item publish time"
   ]
  },
  {
   "cell_type": "code",
   "execution_count": null,
   "metadata": {},
   "outputs": [],
   "source": [
    "import re\n",
    "import datetime\n",
    "def get_publication_time(details):\n",
    "    if details == {}:\n",
    "        return None\n",
    "    else:\n",
    "        keys = list(details.keys())\n",
    "        if 'Publisher' in keys:\n",
    "            date_str = details['Publisher']\n",
    "            date_match = re.search(r'\\((.*?)\\)', date_str)\n",
    "            if date_match:\n",
    "                date_str = date_match.group(1)  \n",
    "\n",
    "            try:\n",
    "                date_obj = datetime.datetime.strptime(date_str, '%B %d, %Y')\n",
    "                return date_obj.strftime('%Y-%m-%d')  \n",
    "            except ValueError:\n",
    "                return None  \n",
    "        elif 'Publication Date' in keys:\n",
    "            date_str = details['Publication Date']\n",
    "            try:\n",
    "                date_obj = datetime.datetime.strptime(date_str, '%B %d, %Y')\n",
    "                return date_obj.strftime('%Y-%m-%d')  \n",
    "            except ValueError:\n",
    "                return None "
   ]
  },
  {
   "cell_type": "code",
   "execution_count": null,
   "metadata": {},
   "outputs": [],
   "source": [
    "meta_small_df['publish_time'] = pd.to_datetime(meta_small_df['details'].apply(get_publication_time), errors='coerce')"
   ]
  },
  {
   "cell_type": "code",
   "execution_count": null,
   "metadata": {},
   "outputs": [],
   "source": [
    "meta_small_df.to_pickle('./small_meta_Books.pkl')"
   ]
  },
  {
   "cell_type": "code",
   "execution_count": null,
   "metadata": {},
   "outputs": [],
   "source": [
    "print(meta_small_df['title'].unique().shape)"
   ]
  },
  {
   "cell_type": "code",
   "execution_count": null,
   "metadata": {},
   "outputs": [],
   "source": [
    "print(meta_small_df['title'])"
   ]
  }
 ],
 "metadata": {
  "kernelspec": {
   "display_name": "pytorch",
   "language": "python",
   "name": "python3"
  },
  "language_info": {
   "codemirror_mode": {
    "name": "ipython",
    "version": 3
   },
   "file_extension": ".py",
   "mimetype": "text/x-python",
   "name": "python",
   "nbconvert_exporter": "python",
   "pygments_lexer": "ipython3",
   "version": "3.9.18"
  }
 },
 "nbformat": 4,
 "nbformat_minor": 2
}
