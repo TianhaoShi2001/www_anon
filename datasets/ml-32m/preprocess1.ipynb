{
 "cells": [
  {
   "cell_type": "code",
   "execution_count": 1,
   "metadata": {},
   "outputs": [],
   "source": [
    "import pandas as pd\n",
    "import json\n",
    "import numpy as np"
   ]
  },
  {
   "cell_type": "markdown",
   "metadata": {},
   "source": [
    "# read data"
   ]
  },
  {
   "cell_type": "code",
   "execution_count": 3,
   "metadata": {},
   "outputs": [],
   "source": [
    "book_df = pd.read_csv('ratings.csv')"
   ]
  },
  {
   "cell_type": "code",
   "execution_count": 4,
   "metadata": {},
   "outputs": [
    {
     "name": "stdout",
     "output_type": "stream",
     "text": [
      "          userId  movieId  rating   timestamp\n",
      "0              1       17     4.0   944249077\n",
      "1              1       25     1.0   944250228\n",
      "2              1       29     2.0   943230976\n",
      "3              1       30     5.0   944249077\n",
      "4              1       32     5.0   943228858\n",
      "...          ...      ...     ...         ...\n",
      "32000199  200948    79702     4.5  1294412589\n",
      "32000200  200948    79796     1.0  1287216292\n",
      "32000201  200948    80350     0.5  1294412671\n",
      "32000202  200948    80463     3.5  1350423800\n",
      "32000203  200948    87304     4.5  1350423523\n",
      "\n",
      "[32000204 rows x 4 columns]\n"
     ]
    }
   ],
   "source": [
    "print(book_df)"
   ]
  },
  {
   "cell_type": "code",
   "execution_count": 5,
   "metadata": {},
   "outputs": [],
   "source": [
    "meta_df = pd.read_csv('movies.csv')\n"
   ]
  },
  {
   "cell_type": "code",
   "execution_count": 6,
   "metadata": {},
   "outputs": [
    {
     "name": "stdout",
     "output_type": "stream",
     "text": [
      "Index(['userId', 'movieId', 'rating', 'timestamp'], dtype='object')\n",
      "Index(['movieId', 'title', 'genres'], dtype='object')\n"
     ]
    }
   ],
   "source": [
    "print(book_df.columns)\n",
    "print(meta_df.columns)"
   ]
  },
  {
   "cell_type": "markdown",
   "metadata": {},
   "source": [
    "# add meta info\n"
   ]
  },
  {
   "cell_type": "code",
   "execution_count": 8,
   "metadata": {},
   "outputs": [
    {
     "name": "stderr",
     "output_type": "stream",
     "text": [
      "/tmp/ipykernel_32850/2529126186.py:2: DtypeWarning: Columns (4) have mixed types. Specify dtype option on import or set low_memory=False.\n",
      "  basics = pd.read_csv('/data/shith/datasets2024/cold/ml-32m/title.basics.tsv', sep = '\\t')\n"
     ]
    }
   ],
   "source": [
    "links = pd.read_csv('links.csv')\n",
    "basics = pd.read_csv('title.basics.tsv', sep = '\\t')"
   ]
  },
  {
   "cell_type": "code",
   "execution_count": 10,
   "metadata": {},
   "outputs": [
    {
     "name": "stdout",
     "output_type": "stream",
     "text": [
      "   movieId  imdbId   tmdbId\n",
      "0        1  114709    862.0\n",
      "1        2  113497   8844.0\n",
      "2        3  113228  15602.0\n",
      "3        4  114885  31357.0\n",
      "4        5  113041  11862.0\n"
     ]
    }
   ],
   "source": [
    "print(links.head(5))"
   ]
  },
  {
   "cell_type": "code",
   "execution_count": 18,
   "metadata": {},
   "outputs": [],
   "source": [
    "def process_idstr(x):\n",
    "    idstr = 'tt'\n",
    "    if len(str(x)) < 7:\n",
    "        for i in range(7 - len(str(x))):\n",
    "            idstr += '0'\n",
    "    idstr += str(x)\n",
    "    return idstr"
   ]
  },
  {
   "cell_type": "code",
   "execution_count": 19,
   "metadata": {},
   "outputs": [],
   "source": [
    "links['tconst'] = links['imdbId'].apply(process_idstr)"
   ]
  },
  {
   "cell_type": "code",
   "execution_count": 20,
   "metadata": {},
   "outputs": [],
   "source": [
    "links_all = pd.merge(links, basics, how = 'left', on = 'tconst')"
   ]
  },
  {
   "cell_type": "code",
   "execution_count": 32,
   "metadata": {},
   "outputs": [
    {
     "name": "stdout",
     "output_type": "stream",
     "text": [
      "Index(['movieId', 'imdbId', 'tmdbId', 'tconst', 'titleType', 'primaryTitle',\n",
      "       'originalTitle', 'isAdult', 'startYear', 'endYear', 'runtimeMinutes',\n",
      "       'genres'],\n",
      "      dtype='object') Index(['movieId', 'title', 'genres'], dtype='object')\n"
     ]
    }
   ],
   "source": [
    "print(links_all.columns, meta_df.columns)"
   ]
  },
  {
   "cell_type": "code",
   "execution_count": 33,
   "metadata": {},
   "outputs": [],
   "source": [
    "meta_df = pd.merge(meta_df, links_all, how =  'left', on = 'movieId')\n"
   ]
  },
  {
   "cell_type": "code",
   "execution_count": 35,
   "metadata": {},
   "outputs": [],
   "source": [
    "meta_df['genres'] = meta_df['genres_x']"
   ]
  },
  {
   "cell_type": "code",
   "execution_count": 40,
   "metadata": {},
   "outputs": [
    {
     "name": "stdout",
     "output_type": "stream",
     "text": [
      "    movieId                                 title  \\\n",
      "0         1                      Toy Story (1995)   \n",
      "1         2                        Jumanji (1995)   \n",
      "2         3               Grumpier Old Men (1995)   \n",
      "3         4              Waiting to Exhale (1995)   \n",
      "4         5    Father of the Bride Part II (1995)   \n",
      "..      ...                                   ...   \n",
      "95       97               Hate (Haine, La) (1995)   \n",
      "96       98                       Shopping (1994)   \n",
      "97       99  Heidi Fleiss: Hollywood Madam (1995)   \n",
      "98      100                      City Hall (1996)   \n",
      "99      101                  Bottle Rocket (1996)   \n",
      "\n",
      "                                       genres_x  imdbId   tmdbId     tconst  \\\n",
      "0   Adventure|Animation|Children|Comedy|Fantasy  114709    862.0  tt0114709   \n",
      "1                    Adventure|Children|Fantasy  113497   8844.0  tt0113497   \n",
      "2                                Comedy|Romance  113228  15602.0  tt0113228   \n",
      "3                          Comedy|Drama|Romance  114885  31357.0  tt0114885   \n",
      "4                                        Comedy  113041  11862.0  tt0113041   \n",
      "..                                          ...     ...      ...        ...   \n",
      "95                                  Crime|Drama  113247    406.0  tt0113247   \n",
      "96                              Action|Thriller  111173  45549.0  tt0111173   \n",
      "97                                  Documentary  113283  63076.0  tt0113283   \n",
      "98                               Drama|Thriller  115907  11062.0  tt0115907   \n",
      "99               Adventure|Comedy|Crime|Romance  115734  13685.0  tt0115734   \n",
      "\n",
      "   titleType                   primaryTitle                  originalTitle  \\\n",
      "0      movie                      Toy Story                      Toy Story   \n",
      "1      movie                        Jumanji                        Jumanji   \n",
      "2      movie               Grumpier Old Men               Grumpier Old Men   \n",
      "3      movie              Waiting to Exhale              Waiting to Exhale   \n",
      "4      movie    Father of the Bride Part II    Father of the Bride Part II   \n",
      "..       ...                            ...                            ...   \n",
      "95     movie                       La haine                       La haine   \n",
      "96     movie                       Shopping                       Shopping   \n",
      "97   tvMovie  Heidi Fleiss: Hollywood Madam  Heidi Fleiss: Hollywood Madam   \n",
      "98     movie                      City Hall                      City Hall   \n",
      "99     movie                  Bottle Rocket                  Bottle Rocket   \n",
      "\n",
      "   isAdult startYear endYear runtimeMinutes                    genres_y  \\\n",
      "0        0      1995      \\N             81  Adventure,Animation,Comedy   \n",
      "1        0      1995      \\N            104     Adventure,Comedy,Family   \n",
      "2        0      1995      \\N            101              Comedy,Romance   \n",
      "3        0      1995      \\N            124        Comedy,Drama,Romance   \n",
      "4        0      1995      \\N            106       Comedy,Family,Romance   \n",
      "..     ...       ...     ...            ...                         ...   \n",
      "95       0      1995      \\N             98                 Crime,Drama   \n",
      "96       0      1994      \\N             87          Action,Crime,Drama   \n",
      "97       0      1995      \\N            106       Biography,Documentary   \n",
      "98       0      1996      \\N            111         Crime,Drama,Mystery   \n",
      "99       0      1996      \\N             91          Comedy,Crime,Drama   \n",
      "\n",
      "                                         genres  \n",
      "0   Adventure|Animation|Children|Comedy|Fantasy  \n",
      "1                    Adventure|Children|Fantasy  \n",
      "2                                Comedy|Romance  \n",
      "3                          Comedy|Drama|Romance  \n",
      "4                                        Comedy  \n",
      "..                                          ...  \n",
      "95                                  Crime|Drama  \n",
      "96                              Action|Thriller  \n",
      "97                                  Documentary  \n",
      "98                               Drama|Thriller  \n",
      "99               Adventure|Comedy|Crime|Romance  \n",
      "\n",
      "[100 rows x 15 columns]\n"
     ]
    }
   ],
   "source": [
    "print(meta_df.head(100))"
   ]
  },
  {
   "cell_type": "markdown",
   "metadata": {},
   "source": [
    "# save pkl "
   ]
  },
  {
   "cell_type": "code",
   "execution_count": 38,
   "metadata": {},
   "outputs": [
    {
     "name": "stdout",
     "output_type": "stream",
     "text": [
      "Index(['userId', 'movieId', 'rating', 'timestamp'], dtype='object')\n"
     ]
    }
   ],
   "source": [
    "print(book_df.columns)"
   ]
  },
  {
   "cell_type": "code",
   "execution_count": 41,
   "metadata": {},
   "outputs": [],
   "source": [
    "book_small_df = book_df.copy()[['userId', 'movieId', 'rating', 'timestamp']]"
   ]
  },
  {
   "cell_type": "code",
   "execution_count": 42,
   "metadata": {},
   "outputs": [],
   "source": [
    "book_small_df.columns = ['user_id',  'parent_asin', 'rating',  'timestamp']"
   ]
  },
  {
   "cell_type": "code",
   "execution_count": 43,
   "metadata": {},
   "outputs": [],
   "source": [
    "book_small_df.drop_duplicates(inplace=True)"
   ]
  },
  {
   "cell_type": "code",
   "execution_count": 44,
   "metadata": {},
   "outputs": [
    {
     "name": "stderr",
     "output_type": "stream",
     "text": [
      "/data/shith/anaconda3/envs/pytorch/lib/python3.10/site-packages/tables/path.py:137: NaturalNameWarning: object name is not a valid Python identifier: '1'; it does not match the pattern ``^[a-zA-Z_][a-zA-Z0-9_]*$``; you will not be able to use natural naming to access this object; using ``getattr()`` will still work, though\n",
      "  check_attribute_name(name)\n"
     ]
    }
   ],
   "source": [
    "book_small_df.to_hdf('./small_Books.hdf',key = '1')\n",
    "book_small_df.to_pickle('./small_Books.pkl')"
   ]
  },
  {
   "cell_type": "code",
   "execution_count": 59,
   "metadata": {},
   "outputs": [
    {
     "name": "stdout",
     "output_type": "stream",
     "text": [
      "32000204\n",
      "   user_id  parent_asin  rating  timestamp\n",
      "0        1           17     4.0  944249077\n",
      "1        1           25     1.0  944250228\n",
      "2        1           29     2.0  943230976\n",
      "3        1           30     5.0  944249077\n",
      "4        1           32     5.0  943228858\n"
     ]
    }
   ],
   "source": [
    "print(book_small_df.shape[0])\n",
    "print(book_small_df.head(5))"
   ]
  },
  {
   "cell_type": "code",
   "execution_count": 46,
   "metadata": {},
   "outputs": [
    {
     "name": "stdout",
     "output_type": "stream",
     "text": [
      "Index(['movieId', 'title', 'genres_x', 'imdbId', 'tmdbId', 'tconst',\n",
      "       'titleType', 'primaryTitle', 'originalTitle', 'isAdult', 'startYear',\n",
      "       'endYear', 'runtimeMinutes', 'genres_y', 'genres'],\n",
      "      dtype='object')\n"
     ]
    }
   ],
   "source": [
    "print(meta_df.columns)"
   ]
  },
  {
   "cell_type": "code",
   "execution_count": 48,
   "metadata": {},
   "outputs": [],
   "source": [
    "meta_small_df = meta_df.copy()[[ 'title', 'movieId', 'genres', 'imdbId', 'tmdbId',\n",
    "                      'startYear',  'titleType',   'runtimeMinutes', 'endYear',    ]]"
   ]
  },
  {
   "cell_type": "code",
   "execution_count": 50,
   "metadata": {},
   "outputs": [
    {
     "name": "stdout",
     "output_type": "stream",
     "text": [
      "                                title  movieId  \\\n",
      "0                    Toy Story (1995)        1   \n",
      "1                      Jumanji (1995)        2   \n",
      "2             Grumpier Old Men (1995)        3   \n",
      "3            Waiting to Exhale (1995)        4   \n",
      "4  Father of the Bride Part II (1995)        5   \n",
      "\n",
      "                                        genres  imdbId   tmdbId startYear  \\\n",
      "0  Adventure|Animation|Children|Comedy|Fantasy  114709    862.0      1995   \n",
      "1                   Adventure|Children|Fantasy  113497   8844.0      1995   \n",
      "2                               Comedy|Romance  113228  15602.0      1995   \n",
      "3                         Comedy|Drama|Romance  114885  31357.0      1995   \n",
      "4                                       Comedy  113041  11862.0      1995   \n",
      "\n",
      "  titleType runtimeMinutes endYear  \n",
      "0     movie             81      \\N  \n",
      "1     movie            104      \\N  \n",
      "2     movie            101      \\N  \n",
      "3     movie            124      \\N  \n",
      "4     movie            106      \\N  \n",
      "Index(['title', 'movieId', 'genres', 'imdbId', 'tmdbId', 'startYear',\n",
      "       'titleType', 'runtimeMinutes', 'endYear'],\n",
      "      dtype='object')\n"
     ]
    }
   ],
   "source": [
    "print(meta_small_df.head(5))\n",
    "print(meta_small_df.columns)"
   ]
  },
  {
   "cell_type": "code",
   "execution_count": 53,
   "metadata": {},
   "outputs": [],
   "source": [
    "meta_small_df.columns = ['title', 'parent_asin', 'genres', 'imdbId', 'tmdbId', 'startYear',\n",
    "       'titleType', 'runtimeMinutes', 'endYear']"
   ]
  },
  {
   "cell_type": "code",
   "execution_count": 54,
   "metadata": {},
   "outputs": [],
   "source": [
    "meta_small_df['publish_time'] = meta_small_df['startYear']"
   ]
  },
  {
   "cell_type": "code",
   "execution_count": 61,
   "metadata": {},
   "outputs": [
    {
     "name": "stdout",
     "output_type": "stream",
     "text": [
      "                              title  parent_asin  \\\n",
      "54212                      Empire V       187647   \n",
      "66506              Sound of Freedom       215173   \n",
      "71721               Hopewell (2020)       231425   \n",
      "72599       The Malibu Tapes (2019)       235259   \n",
      "79100  The Everlasting Story (2021)       264900   \n",
      "...                             ...          ...   \n",
      "87574               Comeback (2023)       292617   \n",
      "87576          Flaming Cloud (2023)       292625   \n",
      "87577      All Fun and Games (2023)       292627   \n",
      "87581    Shelter in Solitude (2023)       292737   \n",
      "87584     Race to the Summit (2023)       292757   \n",
      "\n",
      "                             genres    imdbId     tmdbId startYear titleType  \\\n",
      "54212                       Fantasy   5183894   513505.0      2023     movie   \n",
      "66506            (no genres listed)   7599146   678512.0      2023     movie   \n",
      "71721                      Thriller   2315938   762640.0      2023     movie   \n",
      "72599                        Horror   2488666   420637.0      2023     movie   \n",
      "79100  Adventure|Animation|Children  14974602   586380.0      2023     movie   \n",
      "...                             ...       ...        ...       ...       ...   \n",
      "87574                  Comedy|Drama  19892092   964315.0      2023     movie   \n",
      "87576            (no genres listed)  13859686  1148812.0      2023     movie   \n",
      "87577               Horror|Thriller  10092698   926599.0      2023     movie   \n",
      "87581                  Comedy|Drama  14907358   986674.0      2023     movie   \n",
      "87584  Action|Adventure|Documentary  28995566  1174725.0      2023     movie   \n",
      "\n",
      "      runtimeMinutes endYear publish_time  \n",
      "54212            116      \\N         2023  \n",
      "66506            131      \\N         2023  \n",
      "71721             83      \\N         2023  \n",
      "72599             83      \\N         2023  \n",
      "79100             90      \\N         2023  \n",
      "...              ...     ...          ...  \n",
      "87574             98      \\N         2023  \n",
      "87576             \\N      \\N         2023  \n",
      "87577             76      \\N         2023  \n",
      "87581             93      \\N         2023  \n",
      "87584             90      \\N         2023  \n",
      "\n",
      "[832 rows x 10 columns]\n"
     ]
    }
   ],
   "source": [
    "print(meta_small_df[meta_small_df['publish_time'] == '2023'])"
   ]
  },
  {
   "cell_type": "code",
   "execution_count": 55,
   "metadata": {},
   "outputs": [],
   "source": [
    "meta_small_df.to_pickle('./small_meta_Books.pkl')"
   ]
  },
  {
   "cell_type": "code",
   "execution_count": 56,
   "metadata": {},
   "outputs": [
    {
     "name": "stdout",
     "output_type": "stream",
     "text": [
      "(87382,)\n"
     ]
    }
   ],
   "source": [
    "print(meta_small_df['title'].unique().shape)"
   ]
  },
  {
   "cell_type": "code",
   "execution_count": 57,
   "metadata": {},
   "outputs": [
    {
     "name": "stdout",
     "output_type": "stream",
     "text": [
      "0                          Toy Story (1995)\n",
      "1                            Jumanji (1995)\n",
      "2                   Grumpier Old Men (1995)\n",
      "3                  Waiting to Exhale (1995)\n",
      "4        Father of the Bride Part II (1995)\n",
      "                        ...                \n",
      "87580             The Monroy Affaire (2022)\n",
      "87581            Shelter in Solitude (2023)\n",
      "87582                           Orca (2023)\n",
      "87583                The Angry Breed (1968)\n",
      "87584             Race to the Summit (2023)\n",
      "Name: title, Length: 87585, dtype: object\n"
     ]
    }
   ],
   "source": [
    "print(meta_small_df['title'])"
   ]
  }
 ],
 "metadata": {
  "kernelspec": {
   "display_name": "pytorch",
   "language": "python",
   "name": "python3"
  },
  "language_info": {
   "codemirror_mode": {
    "name": "ipython",
    "version": 3
   },
   "file_extension": ".py",
   "mimetype": "text/x-python",
   "name": "python",
   "nbconvert_exporter": "python",
   "pygments_lexer": "ipython3",
   "version": "3.10.0"
  }
 },
 "nbformat": 4,
 "nbformat_minor": 2
}
